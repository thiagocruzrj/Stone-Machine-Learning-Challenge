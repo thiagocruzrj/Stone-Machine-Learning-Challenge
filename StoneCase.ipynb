{
 "cells": [
  {
   "cell_type": "code",
   "execution_count": 1,
   "metadata": {},
   "outputs": [
    {
     "name": "stdout",
     "output_type": "stream",
     "text": [
      "[('user2', 0.52), ('user3', 0.45999999999999996), ('user1', 0.4)]\n"
     ]
    },
    {
     "data": {
      "text/plain": [
       "'\\nsums2 = defaultdict(int)\\nfor i, k in e:\\n    sums2[i] += k*0.02\\n    finalValue = sums2.items()\\n\\nprint(sorted(finalValue,key=lambda x:(-x[1],x[0]))\\n\\n'"
      ]
     },
     "execution_count": 1,
     "metadata": {},
     "output_type": "execute_result"
    }
   ],
   "source": [
    "from itertools import groupby\n",
    "from operator import itemgetter\n",
    "from collections import defaultdict\n",
    "e = [('user1', 10),('user2',2),('user2',24),('user1',10),('user3',15),('user3',8)]\n",
    "first = itemgetter(0)\n",
    "sums = [(k, sum(item[1]*0.02 for item in tup))\n",
    "       for k, tup in groupby(sorted(e, key=first), key=first)]\n",
    "print(sorted(sums,key=lambda x:(-x[1],x[0])))\n",
    "\n",
    "\"\"\"\n",
    "sums2 = defaultdict(int)\n",
    "for i, k in e:\n",
    "    sums2[i] += k*0.02\n",
    "    finalValue = sums2.items()\n",
    "\n",
    "print(sorted(finalValue,key=lambda x:(-x[1],x[0]))\n",
    "\n",
    "\"\"\""
   ]
  },
  {
   "cell_type": "code",
   "execution_count": 65,
   "metadata": {},
   "outputs": [
    {
     "ename": "TypeError",
     "evalue": "'float' object is not iterable",
     "output_type": "error",
     "traceback": [
      "\u001b[1;31m---------------------------------------------------------------------------\u001b[0m",
      "\u001b[1;31mTypeError\u001b[0m                                 Traceback (most recent call last)",
      "\u001b[1;32m<ipython-input-65-479ca79c3d9b>\u001b[0m in \u001b[0;36m<module>\u001b[1;34m\u001b[0m\n\u001b[0;32m      9\u001b[0m             \u001b[0mvalor\u001b[0m \u001b[1;33m=\u001b[0m \u001b[0mvalor\u001b[0m \u001b[1;33m+\u001b[0m \u001b[0mt\u001b[0m\u001b[1;33m[\u001b[0m\u001b[1;36m1\u001b[0m\u001b[1;33m]\u001b[0m\u001b[1;33m\u001b[0m\u001b[1;33m\u001b[0m\u001b[0m\n\u001b[0;32m     10\u001b[0m     \u001b[0mvalorFinal\u001b[0m \u001b[1;33m=\u001b[0m \u001b[0mvalor\u001b[0m \u001b[1;33m*\u001b[0m \u001b[1;36m0.02\u001b[0m\u001b[1;33m\u001b[0m\u001b[1;33m\u001b[0m\u001b[0m\n\u001b[1;32m---> 11\u001b[1;33m     \u001b[0mnew\u001b[0m \u001b[1;33m=\u001b[0m \u001b[1;33m[\u001b[0m\u001b[1;33m[\u001b[0m\u001b[0mi\u001b[0m\u001b[1;33m]\u001b[0m \u001b[1;32mfor\u001b[0m \u001b[0mi\u001b[0m \u001b[1;32min\u001b[0m \u001b[0mvalorFinal\u001b[0m\u001b[1;33m]\u001b[0m\u001b[1;33m\u001b[0m\u001b[1;33m\u001b[0m\u001b[0m\n\u001b[0m\u001b[0;32m     12\u001b[0m \u001b[1;33m\u001b[0m\u001b[0m\n",
      "\u001b[1;31mTypeError\u001b[0m: 'float' object is not iterable"
     ]
    }
   ],
   "source": [
    "e = [('user1', 10),('user2',2),('user2',24),('user1',10),('user3',15),('user3',8)]\n",
    "type(e)\n",
    "users = [\"user1\",\"user2\",\"user3\"]\n",
    "for u in users:\n",
    "    valor = 0\n",
    "    for t in e:\n",
    "        user = t[0]\n",
    "        if user == u:\n",
    "            valor = valor + t[1]\n",
    "    valorFinal = valor * 0.02"
   ]
  },
  {
   "cell_type": "code",
   "execution_count": null,
   "metadata": {},
   "outputs": [],
   "source": []
  }
 ],
 "metadata": {
  "kernelspec": {
   "display_name": "Python 3",
   "language": "python",
   "name": "python3"
  },
  "language_info": {
   "codemirror_mode": {
    "name": "ipython",
    "version": 3
   },
   "file_extension": ".py",
   "mimetype": "text/x-python",
   "name": "python",
   "nbconvert_exporter": "python",
   "pygments_lexer": "ipython3",
   "version": "3.7.3"
  }
 },
 "nbformat": 4,
 "nbformat_minor": 2
}
