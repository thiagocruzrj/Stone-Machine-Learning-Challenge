{
 "cells": [
  {
   "cell_type": "code",
   "execution_count": 1,
   "metadata": {},
   "outputs": [
    {
     "name": "stdout",
     "output_type": "stream",
     "text": [
      "[('user2', 0.52), ('user3', 0.45999999999999996), ('user1', 0.4)]\n"
     ]
    }
   ],
   "source": [
    "from itertools import groupby\n",
    "from operator import itemgetter\n",
    "e = [('user1', 10),('user2',2),('user2',24),('user1',10),('user3',15),('user3',8)]\n",
    "first = itemgetter(0)\n",
    "sums = [(k, sum(item[1]*0.02 for item in tup))\n",
    "       for k, tup in groupby(sorted(e, key=first), key=first)]\n",
    "print(sorted(sums,key=lambda x:(-x[1],x[0])))\n",
    "# O(n) pela variancia da lista de tuplas e iteração do for"
   ]
  },
  {
   "cell_type": "code",
   "execution_count": 2,
   "metadata": {},
   "outputs": [
    {
     "name": "stdout",
     "output_type": "stream",
     "text": [
      "[('user2', 0.52), ('user3', 0.46), ('user1', 0.4)]\n"
     ]
    }
   ],
   "source": [
    "from collections import defaultdict\n",
    "\n",
    "result = defaultdict(int)\n",
    "\n",
    "data = [('user1', 10),('user2',2),('user2',24),('user1',10),('user3',15),('user3',8)]\n",
    "for k, v in data:\n",
    "    result[k] += v\n",
    "\n",
    "result = [(k, v*0.02) for k, v in result.items()]\n",
    "result.sort(key=lambda x: x[1], reverse=True)\n",
    "print(result)\n",
    "#O(n) pela variancia da lista de tuplas e iteração do for"
   ]
  },
  {
   "cell_type": "code",
   "execution_count": 3,
   "metadata": {},
   "outputs": [
    {
     "name": "stdout",
     "output_type": "stream",
     "text": [
      "[('user2', 0.52), ('user3', 0.46), ('user1', 0.4)]\n"
     ]
    }
   ],
   "source": [
    "e = [('user1', 10),('user2',2),('user2',24),('user1',10),('user3',15),('user3',8)]\n",
    "type(e)\n",
    "users = [\"user1\",\"user2\",\"user3\"]\n",
    "f = []\n",
    "for u in users:\n",
    "    value = 0\n",
    "    for t in e:\n",
    "        user = t[0]\n",
    "        if user == u:\n",
    "            value = value + t[1]\n",
    "    finalValue = value* 0.02\n",
    "    f.append((u, finalValue))\n",
    "    f.sort(key=lambda x: x[1], reverse=True)\n",
    "print(f)\n",
    "#O(n*m) = 2 fors com variaveis diferentes e encadeados"
   ]
  },
  {
   "cell_type": "code",
   "execution_count": null,
   "metadata": {},
   "outputs": [],
   "source": []
  }
 ],
 "metadata": {
  "kernelspec": {
   "display_name": "Python 3",
   "language": "python",
   "name": "python3"
  },
  "language_info": {
   "codemirror_mode": {
    "name": "ipython",
    "version": 3
   },
   "file_extension": ".py",
   "mimetype": "text/x-python",
   "name": "python",
   "nbconvert_exporter": "python",
   "pygments_lexer": "ipython3",
   "version": "3.7.3"
  }
 },
 "nbformat": 4,
 "nbformat_minor": 2
}
